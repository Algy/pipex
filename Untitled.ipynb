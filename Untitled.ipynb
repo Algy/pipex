{
 "cells": [
  {
   "cell_type": "code",
   "execution_count": 11,
   "metadata": {
    "ExecuteTime": {
     "end_time": "2018-12-21T20:35:15.282908Z",
     "start_time": "2018-12-21T20:35:15.279382Z"
    }
   },
   "outputs": [],
   "source": [
    "import pipex as p"
   ]
  },
  {
   "cell_type": "code",
   "execution_count": 7,
   "metadata": {
    "ExecuteTime": {
     "end_time": "2018-12-21T20:35:03.685590Z",
     "start_time": "2018-12-21T20:35:03.682971Z"
    }
   },
   "outputs": [],
   "source": [
    "import numpy as np"
   ]
  },
  {
   "cell_type": "code",
   "execution_count": 2,
   "metadata": {
    "ExecuteTime": {
     "end_time": "2018-12-21T20:34:53.161564Z",
     "start_time": "2018-12-21T20:34:53.009185Z"
    }
   },
   "outputs": [],
   "source": [
    "import pandas as pd"
   ]
  },
  {
   "cell_type": "code",
   "execution_count": 3,
   "metadata": {
    "ExecuteTime": {
     "end_time": "2018-12-21T20:34:53.217018Z",
     "start_time": "2018-12-21T20:34:53.211930Z"
    }
   },
   "outputs": [],
   "source": [
    "t = pd.DataFrame({\"a\": [3,4]})"
   ]
  },
  {
   "cell_type": "code",
   "execution_count": 5,
   "metadata": {
    "ExecuteTime": {
     "end_time": "2018-12-21T20:34:56.838258Z",
     "start_time": "2018-12-21T20:34:56.836001Z"
    }
   },
   "outputs": [],
   "source": [
    "for precord in list(p.cat([1,2,3])):\n",
    "    precord"
   ]
  },
  {
   "cell_type": "code",
   "execution_count": 49,
   "metadata": {
    "ExecuteTime": {
     "end_time": "2018-12-21T20:14:03.294472Z",
     "start_time": "2018-12-21T20:14:03.291621Z"
    }
   },
   "outputs": [],
   "source": [
    "from PIL import Image"
   ]
  },
  {
   "cell_type": "code",
   "execution_count": 62,
   "metadata": {
    "ExecuteTime": {
     "end_time": "2018-12-21T20:16:13.898746Z",
     "start_time": "2018-12-21T20:16:13.762065Z"
    }
   },
   "outputs": [
    {
     "data": {
      "text/plain": [
       "b'\\x89PNG\\r\\n\\x1a\\n\\x00\\x00\\x00\\rIHDR\\x00\\x00\\x05\\x00'"
      ]
     },
     "execution_count": 62,
     "metadata": {},
     "output_type": "execute_result"
    }
   ],
   "source": [
    "g._repr_png_()[:20]"
   ]
  },
  {
   "cell_type": "code",
   "execution_count": 64,
   "metadata": {
    "ExecuteTime": {
     "end_time": "2018-12-21T20:18:40.578017Z",
     "start_time": "2018-12-21T20:18:40.575391Z"
    }
   },
   "outputs": [],
   "source": [
    "from base64 import b64encode"
   ]
  },
  {
   "cell_type": "code",
   "execution_count": 67,
   "metadata": {
    "ExecuteTime": {
     "end_time": "2018-12-21T20:19:07.866111Z",
     "start_time": "2018-12-21T20:19:07.733141Z"
    }
   },
   "outputs": [
    {
     "data": {
      "text/plain": [
       "'iVBORw0KGgoAAAANSUhE'"
      ]
     },
     "execution_count": 67,
     "metadata": {},
     "output_type": "execute_result"
    }
   ],
   "source": [
    "b64encode(g._repr_png_()).decode()[:20]"
   ]
  },
  {
   "cell_type": "code",
   "execution_count": 8,
   "metadata": {
    "ExecuteTime": {
     "end_time": "2018-12-21T20:35:05.050695Z",
     "start_time": "2018-12-21T20:35:05.048099Z"
    }
   },
   "outputs": [],
   "source": [
    "import numpy as np\n"
   ]
  },
  {
   "cell_type": "code",
   "execution_count": null,
   "metadata": {},
   "outputs": [],
   "source": []
  },
  {
   "cell_type": "code",
   "execution_count": 9,
   "metadata": {
    "ExecuteTime": {
     "end_time": "2018-12-21T20:35:05.433146Z",
     "start_time": "2018-12-21T20:35:05.412218Z"
    }
   },
   "outputs": [
    {
     "data": {
      "text/plain": [
       "<pipex.pdatastructures.PRecord at 0x7f0af20d93a8>"
      ]
     },
     "execution_count": 9,
     "metadata": {},
     "output_type": "execute_result"
    }
   ],
   "source": [
    "precord.merge(image=np.zeros((100, 100), dtype=np.uint8)).with_channel(\"image\")"
   ]
  },
  {
   "cell_type": "code",
   "execution_count": 10,
   "metadata": {
    "ExecuteTime": {
     "end_time": "2018-12-21T20:35:08.236878Z",
     "start_time": "2018-12-21T20:35:08.233331Z"
    }
   },
   "outputs": [
    {
     "data": {
      "text/plain": [
       "<pipex.pdatastructures.PRecord at 0x7f0af27a7d38>"
      ]
     },
     "execution_count": 10,
     "metadata": {},
     "output_type": "execute_result"
    }
   ],
   "source": [
    "precord"
   ]
  }
 ],
 "metadata": {
  "kernelspec": {
   "display_name": "Python 3",
   "language": "python",
   "name": "python3"
  },
  "language_info": {
   "codemirror_mode": {
    "name": "ipython",
    "version": 3
   },
   "file_extension": ".py",
   "mimetype": "text/x-python",
   "name": "python",
   "nbconvert_exporter": "python",
   "pygments_lexer": "ipython3",
   "version": "3.7.1"
  }
 },
 "nbformat": 4,
 "nbformat_minor": 2
}
